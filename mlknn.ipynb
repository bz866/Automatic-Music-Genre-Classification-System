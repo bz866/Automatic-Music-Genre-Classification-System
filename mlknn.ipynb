{
 "cells": [
  {
   "cell_type": "code",
   "execution_count": 1,
   "metadata": {
    "collapsed": false
   },
   "outputs": [
    {
     "ename": "NameError",
     "evalue": "name 'ML_KNN' is not defined",
     "output_type": "error",
     "traceback": [
      "\u001b[0;31m---------------------------------------------------------------------------\u001b[0m",
      "\u001b[0;31mNameError\u001b[0m                                 Traceback (most recent call last)",
      "\u001b[0;32m<ipython-input-1-040fa1074bbb>\u001b[0m in \u001b[0;36m<module>\u001b[0;34m()\u001b[0m\n\u001b[1;32m     60\u001b[0m \u001b[0mX_train\u001b[0m\u001b[0;34m,\u001b[0m \u001b[0mX_test\u001b[0m\u001b[0;34m,\u001b[0m \u001b[0my_train\u001b[0m\u001b[0;34m,\u001b[0m \u001b[0my_test\u001b[0m \u001b[0;34m=\u001b[0m \u001b[0mtrain_test_split\u001b[0m\u001b[0;34m(\u001b[0m\u001b[0mX\u001b[0m\u001b[0;34m,\u001b[0m \u001b[0my\u001b[0m\u001b[0;34m,\u001b[0m \u001b[0mtest_size\u001b[0m\u001b[0;34m=\u001b[0m\u001b[0;36m0.2\u001b[0m\u001b[0;34m,\u001b[0m \u001b[0mrandom_state\u001b[0m\u001b[0;34m=\u001b[0m\u001b[0;36m42\u001b[0m\u001b[0;34m)\u001b[0m\u001b[0;34m\u001b[0m\u001b[0m\n\u001b[1;32m     61\u001b[0m \u001b[0;34m\u001b[0m\u001b[0m\n\u001b[0;32m---> 62\u001b[0;31m \u001b[0mmodel\u001b[0m \u001b[0;34m=\u001b[0m\u001b[0mML_KNN\u001b[0m\u001b[0;34m(\u001b[0m\u001b[0;36m5\u001b[0m\u001b[0;34m,\u001b[0m\u001b[0;36m100\u001b[0m\u001b[0;34m)\u001b[0m\u001b[0;34m\u001b[0m\u001b[0m\n\u001b[0m\u001b[1;32m     63\u001b[0m \u001b[0mmodel\u001b[0m\u001b[0;34m.\u001b[0m\u001b[0mfit\u001b[0m\u001b[0;34m(\u001b[0m\u001b[0mX_train\u001b[0m\u001b[0;34m[\u001b[0m\u001b[0;36m0\u001b[0m\u001b[0;34m:\u001b[0m\u001b[0;36m50000\u001b[0m\u001b[0;34m]\u001b[0m\u001b[0;34m,\u001b[0m\u001b[0my_train\u001b[0m\u001b[0;34m[\u001b[0m\u001b[0;36m0\u001b[0m\u001b[0;34m:\u001b[0m\u001b[0;36m50000\u001b[0m\u001b[0;34m]\u001b[0m\u001b[0;34m)\u001b[0m\u001b[0;34m\u001b[0m\u001b[0m\n\u001b[1;32m     64\u001b[0m \u001b[0mmodel\u001b[0m\u001b[0;34m.\u001b[0m\u001b[0mscore\u001b[0m\u001b[0;34m(\u001b[0m\u001b[0mX_test\u001b[0m\u001b[0;34m[\u001b[0m\u001b[0;36m0\u001b[0m\u001b[0;34m:\u001b[0m\u001b[0;36m5000\u001b[0m\u001b[0;34m]\u001b[0m\u001b[0;34m,\u001b[0m\u001b[0my_test\u001b[0m\u001b[0;34m[\u001b[0m\u001b[0;36m0\u001b[0m\u001b[0;34m:\u001b[0m\u001b[0;36m5000\u001b[0m\u001b[0;34m]\u001b[0m\u001b[0;34m)\u001b[0m\u001b[0;34m\u001b[0m\u001b[0m\n",
      "\u001b[0;31mNameError\u001b[0m: name 'ML_KNN' is not defined"
     ]
    }
   ],
   "source": [
    "from sklearn.neighbors import NearestNeighbors\n",
    "import pandas as pd\n",
    "import numpy as np\n",
    "from utils import *\n",
    "import pickle \n",
    "from sklearn.feature_extraction.text import CountVectorizer\n",
    "from sklearn.multiclass import OneVsRestClassifier\n",
    "from sklearn.svm import LinearSVC\n",
    "from sklearn.linear_model import LogisticRegression\n",
    "from sklearn.naive_bayes import MultinomialNB\n",
    "from sklearn.model_selection import train_test_split\n",
    "from sklearn.metrics import roc_auc_score\n",
    "from sklearn.metrics import precision_recall_curve\n",
    "from sklearn.metrics import hamming_loss\n",
    "from sklearn.metrics import f1_score\n",
    "import time\n",
    "\n",
    "start =time.time()\n",
    "\n",
    "n = 20000\n",
    "\n",
    "num_tags = 100\n",
    "\n",
    "#load all lyric data into pandas dataframe\n",
    "df = pd.read_csv('lyric_data.csv', index_col=0)\n",
    "\n",
    "# Sometimes the API returns an error message rather than actual lyrics. This removes it\n",
    "bad_song = df['lyrics'].value_counts().index[0]\n",
    "df[df['lyrics'] == bad_song] = ''\n",
    "\n",
    "# only take the ones that we have data for\n",
    "df.fillna('', inplace=True)\n",
    "df = df[df['lyrics'] != '']\n",
    "\n",
    "# List of list of tags for each example\n",
    "tags = [clean_tags(raw) for raw in list(df['tags'])]\n",
    "\n",
    "# list of tuples of (tag, frequency) in desending order\n",
    "tf = tag_freq(tags)\n",
    "\n",
    "# Choose which tags to restrict model too\n",
    "important_tags = [x[0] for x in tf[0:num_tags]]\n",
    "important_tags = dict(zip(important_tags, range(len(important_tags))))\n",
    "\n",
    "# maps each of the tags int 'tags' to an int index\n",
    "indices = tag2index(tags, important_tags)\n",
    "\n",
    "# Convert indices to binary vectors of tags\n",
    "y = np.zeros((len(indices), num_tags))\n",
    "for i, tags in enumerate(indices):\n",
    "    for tag in tags:\n",
    "        y[i, tag] = 1\n",
    "\n",
    "# Build vocabulary and tokenizer\n",
    "vect = CountVectorizer(max_features=n, stop_words='english')\n",
    "X = vect.fit_transform(df['lyrics'])\n",
    "vocab = vect.vocabulary_\n",
    "tok = vect.build_analyzer()\n",
    "\n",
    "X_train, X_test, y_train, y_test = train_test_split(X, y, test_size=0.2, random_state=42)\n",
    "\n",
    "#model =ML_KNN(5,100)\n",
    "#model.fit(X_train[0:50000],y_train[0:50000])\n",
    "#model.score(X_test[0:5000],y_test[0:5000])\n",
    "\n"
   ]
  },
  {
   "cell_type": "code",
   "execution_count": 27,
   "metadata": {
    "collapsed": false
   },
   "outputs": [
    {
     "name": "stdout",
     "output_type": "stream",
     "text": [
      "(5, 100)\n",
      "0.003993034362792969\n"
     ]
    }
   ],
   "source": [
    "from scipy.spatial.distance import pdist\n",
    "from sklearn.metrics.pairwise import pairwise_distances\n",
    "\n",
    "def nearest_neighbors(X,k):\n",
    "    \n",
    "    D = pairwise_distances(X[0:5],X)\n",
    "    \n",
    "    print(D.shape)\n",
    "    neighbors = D.argpartition( k , axis=1)[:,:k]\n",
    "    \n",
    "    return(neighbors)\n",
    "\n",
    "start =time.time()\n",
    "N = nearest_neighbors(X_train[0:100],5)\n",
    "print(time.time() - start)"
   ]
  },
  {
   "cell_type": "code",
   "execution_count": 24,
   "metadata": {
    "collapsed": false
   },
   "outputs": [
    {
     "name": "stdout",
     "output_type": "stream",
     "text": [
      "15.49823784828186\n"
     ]
    }
   ],
   "source": [
    "nn = NearestNeighbors(n_neighbors=5, radius=1.0)\n",
    "nn.fit(X_train)\n",
    "\n",
    "start = time.time()\n",
    "N = nn.kneighbors(X_train[0:1000])\n",
    "print(time.time() - start)"
   ]
  },
  {
   "cell_type": "code",
   "execution_count": 3,
   "metadata": {
    "collapsed": false
   },
   "outputs": [],
   "source": [
    "#identify prior probabilities \n",
    "#TODO: ADD SMOOTHING PARAM\n",
    "H = y_train.sum(axis=0) / y_train.sum(axis=0).sum()\n"
   ]
  },
  {
   "cell_type": "code",
   "execution_count": null,
   "metadata": {
    "collapsed": false
   },
   "outputs": [],
   "source": [
    "#Posterior Probabilites\n",
    "\n",
    "x_test = X_test[0]\n",
    "    \n",
    "    \n",
    "c1 = np.zeros((5,100))\n",
    "c2 = np.zeros((5,100))\n",
    "\n",
    "for i in range(X_train.shape[0]):\n",
    "#for i in range(5,6):\n",
    "\n",
    "    N = nn.kneighbors(X_train[i])\n",
    "\n",
    "    delta = y_train[N[1][0]].sum(axis=0).astype(int) -1 \n",
    "\n",
    "    y_xi = y_train[i]\n",
    "    \n",
    "    mask = np.nonzero(y_xi)\n",
    "    mask_neg = np.nonzero(1-y_xi)\n",
    "    \n",
    "    c1[ tuple(delta[mask]) , tuple(mask[0])] += 1\n",
    "    c2[ tuple(delta[mask_neg]) , tuple(mask_neg[0])] += 1\n",
    "    \n",
    "    if i % 10 ==0:\n",
    "        \n",
    "        print(i,X_train.shape[0])\n",
    "    \n",
    "        "
   ]
  },
  {
   "cell_type": "code",
   "execution_count": null,
   "metadata": {
    "collapsed": false
   },
   "outputs": [],
   "source": [
    "a,b = nn.kneighbors(X_train[0:10])"
   ]
  },
  {
   "cell_type": "code",
   "execution_count": null,
   "metadata": {
    "collapsed": false
   },
   "outputs": [],
   "source": [
    "#rng = nn.radius_neighbors(X_test[0])\n",
    "a.shape"
   ]
  },
  {
   "cell_type": "code",
   "execution_count": null,
   "metadata": {
    "collapsed": false
   },
   "outputs": [],
   "source": [
    "print(y_train[5])\n",
    "print(np.nonzero(y_train[5]))"
   ]
  },
  {
   "cell_type": "code",
   "execution_count": 4,
   "metadata": {
    "collapsed": false
   },
   "outputs": [
    {
     "name": "stdout",
     "output_type": "stream",
     "text": [
      "10.639411926269531\n"
     ]
    }
   ],
   "source": [
    "start = time.time()\n",
    "N = nn.kneighbors(X_train[0:500])\n",
    "print(time.time() - start)"
   ]
  },
  {
   "cell_type": "code",
   "execution_count": 9,
   "metadata": {
    "collapsed": false
   },
   "outputs": [
    {
     "data": {
      "text/plain": [
       "array([    2, 95489, 57340, 66627, 14498])"
      ]
     },
     "execution_count": 9,
     "metadata": {},
     "output_type": "execute_result"
    }
   ],
   "source": [
    "N[1][2]"
   ]
  },
  {
   "cell_type": "code",
   "execution_count": 30,
   "metadata": {
    "collapsed": false
   },
   "outputs": [
    {
     "name": "stdout",
     "output_type": "stream",
     "text": [
      "0 150236\n",
      "10 150236\n",
      "20 150236\n",
      "30 150236\n",
      "40 150236\n",
      "50 150236\n",
      "60 150236\n",
      "70 150236\n",
      "80 150236\n",
      "90 150236\n",
      "100 150236\n",
      "110 150236\n",
      "120 150236\n",
      "130 150236\n",
      "140 150236\n",
      "150 150236\n",
      "160 150236\n",
      "170 150236\n",
      "180 150236\n",
      "190 150236\n",
      "200 150236\n",
      "210 150236\n",
      "220 150236\n",
      "230 150236\n",
      "240 150236\n",
      "250 150236\n",
      "260 150236\n",
      "270 150236\n",
      "280 150236\n",
      "290 150236\n",
      "300 150236\n",
      "310 150236\n",
      "320 150236\n",
      "330 150236\n",
      "340 150236\n",
      "350 150236\n",
      "360 150236\n",
      "370 150236\n",
      "380 150236\n",
      "390 150236\n",
      "400 150236\n",
      "410 150236\n",
      "420 150236\n",
      "430 150236\n",
      "440 150236\n",
      "450 150236\n",
      "460 150236\n",
      "470 150236\n",
      "480 150236\n",
      "490 150236\n"
     ]
    }
   ],
   "source": [
    "#Posterior Probabilites\n",
    "\n",
    "x_test = X_test[0]\n",
    "    \n",
    "\n",
    "N = nn.kneighbors(X_train[0:500])\n",
    "    \n",
    "c1 = np.zeros((5+1,100))\n",
    "c2 = np.zeros((5+1,100))\n",
    "\n",
    "for i in range(500):\n",
    "#for i in range(5,6):\n",
    "\n",
    "    delta = y_train[N[1][i]].sum(axis=0).astype(int)\n",
    "\n",
    "    y_xi = y_train[i]\n",
    "    \n",
    "    mask = np.nonzero(y_xi)\n",
    "    mask_neg = np.nonzero(1-y_xi)\n",
    "    \n",
    "    c1[ tuple(delta[mask]) , tuple(mask[0])] += 1\n",
    "    c2[ tuple(delta[mask_neg]) , tuple(mask_neg[0])] += 1\n",
    "    \n",
    "    if i % 10 ==0:\n",
    "        \n",
    "        print(i,X_train.shape[0])\n",
    "    \n",
    "        "
   ]
  },
  {
   "cell_type": "code",
   "execution_count": 40,
   "metadata": {
    "collapsed": false
   },
   "outputs": [
    {
     "data": {
      "text/plain": [
       "array([ 347.,   83.,   12.,    5.,    1.,    0.])"
      ]
     },
     "execution_count": 40,
     "metadata": {},
     "output_type": "execute_result"
    }
   ],
   "source": [
    "c2[:,10]"
   ]
  },
  {
   "cell_type": "code",
   "execution_count": 41,
   "metadata": {
    "collapsed": false
   },
   "outputs": [],
   "source": [
    "E_H1 = (c1+1) / (c1+1).sum(axis=0)\n",
    "E_H0 = (c2+1) / (c2+1).sum(axis=0)"
   ]
  },
  {
   "cell_type": "code",
   "execution_count": 49,
   "metadata": {
    "collapsed": false
   },
   "outputs": [],
   "source": [
    "#predict new point\n",
    "\n",
    "x_test = X_test[0:10]\n",
    "N_test = nn.kneighbors(x_test)\n",
    "\n",
    "count = y_train[N_test[1][0]].sum(axis=0).astype(int)\n",
    "\n"
   ]
  },
  {
   "cell_type": "code",
   "execution_count": 51,
   "metadata": {
    "collapsed": false
   },
   "outputs": [
    {
     "data": {
      "text/plain": [
       "(10, 5)"
      ]
     },
     "execution_count": 51,
     "metadata": {},
     "output_type": "execute_result"
    }
   ],
   "source": [
    "N_test[1].shape"
   ]
  },
  {
   "cell_type": "code",
   "execution_count": 22,
   "metadata": {
    "collapsed": false
   },
   "outputs": [
    {
     "data": {
      "text/plain": [
       "(5, 100)"
      ]
     },
     "execution_count": 22,
     "metadata": {},
     "output_type": "execute_result"
    }
   ],
   "source": [
    "E_H1[]"
   ]
  },
  {
   "cell_type": "code",
   "execution_count": 44,
   "metadata": {
    "collapsed": false
   },
   "outputs": [
    {
     "data": {
      "text/plain": [
       "array([ 0.00290319,  0.00424264,  0.00027715,  0.00026028,  0.0003271 ,\n",
       "        0.00210817,  0.00268018,  0.00029365,  0.00107769,  0.00222078,\n",
       "        0.0013776 ,  0.00090018,  0.0007685 ,  0.00027432,  0.00130546,\n",
       "        0.0011022 ,  0.00029298,  0.00024445,  0.00026838,  0.00131382,\n",
       "        0.00151207,  0.00094386,  0.00027258,  0.00030599,  0.00052449,\n",
       "        0.00242604,  0.0025678 ,  0.00019889,  0.0004467 ,  0.0006853 ,\n",
       "        0.00070225,  0.00023593,  0.00468837,  0.00118532,  0.000888  ,\n",
       "        0.00026298,  0.0016305 ,  0.00025244,  0.00089311,  0.00109259,\n",
       "        0.00024617,  0.00102818,  0.00132836,  0.00060829,  0.00074314,\n",
       "        0.00114635,  0.001023  ,  0.00107906,  0.00024894,  0.00160755,\n",
       "        0.00074564,  0.00103922,  0.00021335,  0.00077296,  0.00046162,\n",
       "        0.00131288,  0.00088191,  0.00147916,  0.00084925,  0.00089118,\n",
       "        0.00071373,  0.00064541,  0.00091064,  0.00051242,  0.00066708,\n",
       "        0.00023794,  0.00024039,  0.00054068,  0.0002954 ,  0.0002327 ,\n",
       "        0.00086313,  0.00013842,  0.0002048 ,  0.00030236,  0.0002082 ,\n",
       "        0.00047045,  0.00080794,  0.00084095,  0.00083324,  0.00058323,\n",
       "        0.00086723,  0.00022447,  0.00023472,  0.0006661 ,  0.00066311,\n",
       "        0.00062795,  0.00042314,  0.00089257,  0.00025092,  0.0005636 ,\n",
       "        0.00080696,  0.00109874,  0.00068915,  0.00023601,  0.00020062,\n",
       "        0.00072215,  0.00060704,  0.00023022,  0.00082092,  0.00050314])"
      ]
     },
     "execution_count": 44,
     "metadata": {},
     "output_type": "execute_result"
    }
   ],
   "source": [
    "E_H1[ tuple(count) , tuple(range(100))] * H"
   ]
  },
  {
   "cell_type": "code",
   "execution_count": 45,
   "metadata": {
    "collapsed": false
   },
   "outputs": [
    {
     "data": {
      "text/plain": [
       "array([ 0.00551303,  0.0049165 ,  0.53161694,  0.53783294,  0.69063076,\n",
       "        0.00226601,  0.00220664,  0.00219019,  0.00218937,  0.00433436,\n",
       "        0.00216744,  0.004288  ,  0.00437386,  0.76369328,  0.0021735 ,\n",
       "        0.00214683,  0.74295857,  0.74334214,  0.58622473,  0.00428842,\n",
       "        0.00211219,  0.00210335,  0.76571084,  0.00209651,  0.00212004,\n",
       "        0.00211141,  0.00207656,  0.8061407 ,  0.00213619,  0.00213154,\n",
       "        0.00411275,  0.69913595,  0.22130909,  0.00211046,  0.00211994,\n",
       "        0.00208478,  0.00205081,  0.87433412,  0.00411232,  0.0020614 ,\n",
       "        0.88790311,  0.0020662 ,  0.00412376,  0.00204492,  0.00207062,\n",
       "        0.00415148,  0.0040579 ,  0.00208452,  0.70759455,  0.00203337,\n",
       "        0.00205922,  0.0041235 ,  0.00207687,  0.00205121,  0.00206413,\n",
       "        0.00409448,  0.00413727,  0.00203463,  0.00203886,  0.00412929,\n",
       "        0.00205611,  0.00202286,  0.00206052,  0.00408781,  0.00206085,\n",
       "        0.00204488,  0.00204105,  0.00202868,  0.00202051,  0.00204144,\n",
       "        0.00404165,  0.89754502,  0.89194759,  0.00201327,  0.90658828,\n",
       "        0.00406785,  0.00202157,  0.00403519,  0.00201769,  0.00201367,\n",
       "        0.00201376,  0.85649578,  0.89941305,  0.00406909,  0.00203459,\n",
       "        0.00407777,  0.00203878,  0.00200998,  0.80286117,  0.00201402,\n",
       "        0.00201449,  0.00203095,  0.00202683,  0.00202293,  0.00203555,\n",
       "        0.00201912,  0.00400582,  0.00201953,  0.0020073 ,  0.00409728])"
      ]
     },
     "execution_count": 45,
     "metadata": {},
     "output_type": "execute_result"
    }
   ],
   "source": [
    "E_H0[ tuple(count) , tuple(range(100))] *( 1 - H )"
   ]
  },
  {
   "cell_type": "code",
   "execution_count": 47,
   "metadata": {
    "collapsed": false
   },
   "outputs": [
    {
     "data": {
      "text/plain": [
       "array([0, 0, 0, 0, 0, 0, 1, 0, 0, 0, 0, 0, 0, 0, 0, 0, 0, 0, 0, 0, 0, 0, 0,\n",
       "       0, 0, 1, 1, 0, 0, 0, 0, 0, 0, 0, 0, 0, 0, 0, 0, 0, 0, 0, 0, 0, 0, 0,\n",
       "       0, 0, 0, 0, 0, 0, 0, 0, 0, 0, 0, 0, 0, 0, 0, 0, 0, 0, 0, 0, 0, 0, 0,\n",
       "       0, 0, 0, 0, 0, 0, 0, 0, 0, 0, 0, 0, 0, 0, 0, 0, 0, 0, 0, 0, 0, 0, 0,\n",
       "       0, 0, 0, 0, 0, 0, 0, 0])"
      ]
     },
     "execution_count": 47,
     "metadata": {},
     "output_type": "execute_result"
    }
   ],
   "source": [
    "1*(E_H1[ tuple(count) , tuple(range(100))] * H >  E_H0[ tuple(count) , tuple(range(100))] *( 1 - H ))"
   ]
  },
  {
   "cell_type": "code",
   "execution_count": 48,
   "metadata": {
    "collapsed": false
   },
   "outputs": [
    {
     "data": {
      "text/plain": [
       "array([ 0.,  0.,  0.,  0.,  0.,  0.,  0.,  0.,  0.,  0.,  0.,  0.,  0.,\n",
       "        0.,  0.,  0.,  0.,  0.,  0.,  0.,  0.,  0.,  0.,  0.,  0.,  0.,\n",
       "        0.,  0.,  0.,  0.,  0.,  0.,  0.,  0.,  0.,  0.,  0.,  0.,  0.,\n",
       "        0.,  0.,  0.,  0.,  0.,  0.,  0.,  0.,  0.,  0.,  0.,  0.,  0.,\n",
       "        0.,  0.,  0.,  0.,  0.,  0.,  0.,  0.,  0.,  0.,  0.,  0.,  0.,\n",
       "        0.,  0.,  0.,  0.,  0.,  0.,  0.,  0.,  0.,  0.,  0.,  0.,  0.,\n",
       "        0.,  0.,  0.,  0.,  0.,  0.,  0.,  0.,  0.,  0.,  0.,  0.,  0.,\n",
       "        0.,  0.,  0.,  0.,  0.,  0.,  0.,  0.,  0.])"
      ]
     },
     "execution_count": 48,
     "metadata": {},
     "output_type": "execute_result"
    }
   ],
   "source": [
    "y_test[0]"
   ]
  },
  {
   "cell_type": "code",
   "execution_count": 68,
   "metadata": {
    "collapsed": true
   },
   "outputs": [],
   "source": [
    "from sklearn.metrics import f1_score\n",
    "\n",
    "\n",
    "class ML_KNN():\n",
    "    \n",
    "    def __init__(self,k,num_labels):\n",
    "        \n",
    "        self.nn = NearestNeighbors(n_neighbors=k, radius=1.0)\n",
    "        self.k = k\n",
    "        self.num_labels = num_labels\n",
    "    \n",
    "    def fit(self,X,y):\n",
    "        \n",
    "        #identify prior probabilities \n",
    "        counts = y_train.sum(axis=0)\n",
    "        self.H = (counts+1) / (counts+1).sum(axis=0).sum()\n",
    "\n",
    "        #Fit posterior probabilities\n",
    "        self.nn.fit(X)\n",
    "        N = self.nn.kneighbors(X)\n",
    "    \n",
    "        c1 = np.zeros((self.k+1,self.num_labels))\n",
    "        c0 = np.zeros((self.k+1,self.num_labels))\n",
    "\n",
    "        for i in range(500):\n",
    "\n",
    "            delta = y_train[N[1][i]].sum(axis=0).astype(int)\n",
    "\n",
    "            mask = np.nonzero(y[i])\n",
    "            mask_neg = np.nonzero(1-y[i])\n",
    "\n",
    "            c1[ tuple(delta[mask]) , tuple(mask[0])] += 1\n",
    "            c0[ tuple(delta[mask_neg]) , tuple(mask_neg[0])] += 1\n",
    "\n",
    "        self.E_H1 = (c1+1) / (c1+1).sum(axis=0)\n",
    "        self.E_H0 = (c0+1) / (c0+1).sum(axis=0)\n",
    "    \n",
    "    def predict(self,X):\n",
    "    \n",
    "        N_test = self.nn.kneighbors(X)\n",
    "\n",
    "        y_hat = np.zeros((X.shape[0],self.num_labels))\n",
    "        \n",
    "        for i in range(X.shape[0]):\n",
    "        \n",
    "            count = y_train[N_test[1][i]].sum(axis=0).astype(int)\n",
    "\n",
    "            prob_hasLabel = E_H1[ tuple(count) , tuple(range(100))] * H\n",
    "            prob_noLabel = E_H0[ tuple(count) , tuple(range(100))] *( 1 - H )\n",
    "            \n",
    "            y_hat[i] = 1*(prob_hasLabel > prob_noLabel)\n",
    "            \n",
    "        return y_hat\n",
    "    \n",
    "    def score(self,X,y):\n",
    "        \n",
    "        y_hat = self.predict(X)\n",
    "        \n",
    "        hamming = hamming_loss(y,y_hat)\n",
    "        \n",
    "        f = f1_score(y,y_hat,average = 'micro')\n",
    "        \n",
    "        return(hamming,f)"
   ]
  },
  {
   "cell_type": "code",
   "execution_count": 69,
   "metadata": {
    "collapsed": true
   },
   "outputs": [],
   "source": [
    "model =ML_KNN(5,100)"
   ]
  },
  {
   "cell_type": "code",
   "execution_count": 72,
   "metadata": {
    "collapsed": false
   },
   "outputs": [],
   "source": [
    "model.fit(X_train[0:50000],y_train[0:50000])"
   ]
  },
  {
   "cell_type": "code",
   "execution_count": 73,
   "metadata": {
    "collapsed": false
   },
   "outputs": [
    {
     "data": {
      "text/plain": [
       "(0.064528, 0.0025967602324718682)"
      ]
     },
     "execution_count": 73,
     "metadata": {},
     "output_type": "execute_result"
    }
   ],
   "source": [
    "model.score(X_test[0:5000],y_test[0:5000])"
   ]
  },
  {
   "cell_type": "code",
   "execution_count": 2,
   "metadata": {
    "collapsed": false
   },
   "outputs": [
    {
     "ename": "NameError",
     "evalue": "name 'X_train' is not defined",
     "output_type": "error",
     "traceback": [
      "\u001b[0;31m---------------------------------------------------------------------------\u001b[0m",
      "\u001b[0;31mNameError\u001b[0m                                 Traceback (most recent call last)",
      "\u001b[0;32m<ipython-input-2-9d2f5e260ddb>\u001b[0m in \u001b[0;36m<module>\u001b[0;34m()\u001b[0m\n\u001b[0;32m----> 1\u001b[0;31m \u001b[0mX_train\u001b[0m\u001b[0;34m.\u001b[0m\u001b[0mshape\u001b[0m\u001b[0;34m\u001b[0m\u001b[0m\n\u001b[0m",
      "\u001b[0;31mNameError\u001b[0m: name 'X_train' is not defined"
     ]
    }
   ],
   "source": [
    "X_train.shape"
   ]
  },
  {
   "cell_type": "code",
   "execution_count": null,
   "metadata": {
    "collapsed": true
   },
   "outputs": [],
   "source": []
  }
 ],
 "metadata": {
  "anaconda-cloud": {},
  "kernelspec": {
   "display_name": "Python [conda root]",
   "language": "python",
   "name": "conda-root-py"
  }
 },
 "nbformat": 4,
 "nbformat_minor": 1
}
